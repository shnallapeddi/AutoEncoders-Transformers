{
 "cells": [
  {
   "cell_type": "markdown",
   "metadata": {
    "id": "z-empePpeqNE"
   },
   "source": [
    "##  Transformers for NLP"
   ]
  },
  {
   "cell_type": "markdown",
   "metadata": {
    "id": "EFb7AHVZ8WEs"
   },
   "source": [
    "1. Dataset downloading"
   ]
  },
  {
   "cell_type": "code",
   "execution_count": 1,
   "metadata": {
    "colab": {
     "base_uri": "https://localhost:8080/"
    },
    "collapsed": true,
    "id": "AHQMSaBpbgO6",
    "jupyter": {
     "outputs_hidden": true
    },
    "outputId": "099ed00b-8bf1-4939-e48f-28ebd1769e5b"
   },
   "outputs": [
    {
     "name": "stdout",
     "output_type": "stream",
     "text": [
      "Collecting datasets\n",
      "  Downloading datasets-3.5.0-py3-none-any.whl.metadata (19 kB)\n",
      "Requirement already satisfied: filelock in /usr/local/lib/python3.11/dist-packages (from datasets) (3.18.0)\n",
      "Requirement already satisfied: numpy>=1.17 in /usr/local/lib/python3.11/dist-packages (from datasets) (2.0.2)\n",
      "Requirement already satisfied: pyarrow>=15.0.0 in /usr/local/lib/python3.11/dist-packages (from datasets) (18.1.0)\n",
      "Collecting dill<0.3.9,>=0.3.0 (from datasets)\n",
      "  Downloading dill-0.3.8-py3-none-any.whl.metadata (10 kB)\n",
      "Requirement already satisfied: pandas in /usr/local/lib/python3.11/dist-packages (from datasets) (2.2.2)\n",
      "Requirement already satisfied: requests>=2.32.2 in /usr/local/lib/python3.11/dist-packages (from datasets) (2.32.3)\n",
      "Requirement already satisfied: tqdm>=4.66.3 in /usr/local/lib/python3.11/dist-packages (from datasets) (4.67.1)\n",
      "Collecting xxhash (from datasets)\n",
      "  Downloading xxhash-3.5.0-cp311-cp311-manylinux_2_17_x86_64.manylinux2014_x86_64.whl.metadata (12 kB)\n",
      "Collecting multiprocess<0.70.17 (from datasets)\n",
      "  Downloading multiprocess-0.70.16-py311-none-any.whl.metadata (7.2 kB)\n",
      "Collecting fsspec<=2024.12.0,>=2023.1.0 (from fsspec[http]<=2024.12.0,>=2023.1.0->datasets)\n",
      "  Downloading fsspec-2024.12.0-py3-none-any.whl.metadata (11 kB)\n",
      "Requirement already satisfied: aiohttp in /usr/local/lib/python3.11/dist-packages (from datasets) (3.11.15)\n",
      "Requirement already satisfied: huggingface-hub>=0.24.0 in /usr/local/lib/python3.11/dist-packages (from datasets) (0.30.2)\n",
      "Requirement already satisfied: packaging in /usr/local/lib/python3.11/dist-packages (from datasets) (24.2)\n",
      "Requirement already satisfied: pyyaml>=5.1 in /usr/local/lib/python3.11/dist-packages (from datasets) (6.0.2)\n",
      "Requirement already satisfied: aiohappyeyeballs>=2.3.0 in /usr/local/lib/python3.11/dist-packages (from aiohttp->datasets) (2.6.1)\n",
      "Requirement already satisfied: aiosignal>=1.1.2 in /usr/local/lib/python3.11/dist-packages (from aiohttp->datasets) (1.3.2)\n",
      "Requirement already satisfied: attrs>=17.3.0 in /usr/local/lib/python3.11/dist-packages (from aiohttp->datasets) (25.3.0)\n",
      "Requirement already satisfied: frozenlist>=1.1.1 in /usr/local/lib/python3.11/dist-packages (from aiohttp->datasets) (1.6.0)\n",
      "Requirement already satisfied: multidict<7.0,>=4.5 in /usr/local/lib/python3.11/dist-packages (from aiohttp->datasets) (6.4.3)\n",
      "Requirement already satisfied: propcache>=0.2.0 in /usr/local/lib/python3.11/dist-packages (from aiohttp->datasets) (0.3.1)\n",
      "Requirement already satisfied: yarl<2.0,>=1.17.0 in /usr/local/lib/python3.11/dist-packages (from aiohttp->datasets) (1.20.0)\n",
      "Requirement already satisfied: typing-extensions>=3.7.4.3 in /usr/local/lib/python3.11/dist-packages (from huggingface-hub>=0.24.0->datasets) (4.13.2)\n",
      "Requirement already satisfied: charset-normalizer<4,>=2 in /usr/local/lib/python3.11/dist-packages (from requests>=2.32.2->datasets) (3.4.1)\n",
      "Requirement already satisfied: idna<4,>=2.5 in /usr/local/lib/python3.11/dist-packages (from requests>=2.32.2->datasets) (3.10)\n",
      "Requirement already satisfied: urllib3<3,>=1.21.1 in /usr/local/lib/python3.11/dist-packages (from requests>=2.32.2->datasets) (2.3.0)\n",
      "Requirement already satisfied: certifi>=2017.4.17 in /usr/local/lib/python3.11/dist-packages (from requests>=2.32.2->datasets) (2025.1.31)\n",
      "Requirement already satisfied: python-dateutil>=2.8.2 in /usr/local/lib/python3.11/dist-packages (from pandas->datasets) (2.8.2)\n",
      "Requirement already satisfied: pytz>=2020.1 in /usr/local/lib/python3.11/dist-packages (from pandas->datasets) (2025.2)\n",
      "Requirement already satisfied: tzdata>=2022.7 in /usr/local/lib/python3.11/dist-packages (from pandas->datasets) (2025.2)\n",
      "Requirement already satisfied: six>=1.5 in /usr/local/lib/python3.11/dist-packages (from python-dateutil>=2.8.2->pandas->datasets) (1.17.0)\n",
      "Downloading datasets-3.5.0-py3-none-any.whl (491 kB)\n",
      "\u001b[2K   \u001b[90m━━━━━━━━━━━━━━━━━━━━━━━━━━━━━━━━━━━━━━━━\u001b[0m \u001b[32m491.2/491.2 kB\u001b[0m \u001b[31m13.3 MB/s\u001b[0m eta \u001b[36m0:00:00\u001b[0m\n",
      "\u001b[?25hDownloading dill-0.3.8-py3-none-any.whl (116 kB)\n",
      "\u001b[2K   \u001b[90m━━━━━━━━━━━━━━━━━━━━━━━━━━━━━━━━━━━━━━━━\u001b[0m \u001b[32m116.3/116.3 kB\u001b[0m \u001b[31m12.6 MB/s\u001b[0m eta \u001b[36m0:00:00\u001b[0m\n",
      "\u001b[?25hDownloading fsspec-2024.12.0-py3-none-any.whl (183 kB)\n",
      "\u001b[2K   \u001b[90m━━━━━━━━━━━━━━━━━━━━━━━━━━━━━━━━━━━━━━━━\u001b[0m \u001b[32m183.9/183.9 kB\u001b[0m \u001b[31m19.4 MB/s\u001b[0m eta \u001b[36m0:00:00\u001b[0m\n",
      "\u001b[?25hDownloading multiprocess-0.70.16-py311-none-any.whl (143 kB)\n",
      "\u001b[2K   \u001b[90m━━━━━━━━━━━━━━━━━━━━━━━━━━━━━━━━━━━━━━━━\u001b[0m \u001b[32m143.5/143.5 kB\u001b[0m \u001b[31m15.5 MB/s\u001b[0m eta \u001b[36m0:00:00\u001b[0m\n",
      "\u001b[?25hDownloading xxhash-3.5.0-cp311-cp311-manylinux_2_17_x86_64.manylinux2014_x86_64.whl (194 kB)\n",
      "\u001b[2K   \u001b[90m━━━━━━━━━━━━━━━━━━━━━━━━━━━━━━━━━━━━━━━━\u001b[0m \u001b[32m194.8/194.8 kB\u001b[0m \u001b[31m21.9 MB/s\u001b[0m eta \u001b[36m0:00:00\u001b[0m\n",
      "\u001b[?25hInstalling collected packages: xxhash, fsspec, dill, multiprocess, datasets\n",
      "  Attempting uninstall: fsspec\n",
      "    Found existing installation: fsspec 2025.3.2\n",
      "    Uninstalling fsspec-2025.3.2:\n",
      "      Successfully uninstalled fsspec-2025.3.2\n",
      "\u001b[31mERROR: pip's dependency resolver does not currently take into account all the packages that are installed. This behaviour is the source of the following dependency conflicts.\n",
      "gcsfs 2025.3.2 requires fsspec==2025.3.2, but you have fsspec 2024.12.0 which is incompatible.\n",
      "torch 2.6.0+cu124 requires nvidia-cublas-cu12==12.4.5.8; platform_system == \"Linux\" and platform_machine == \"x86_64\", but you have nvidia-cublas-cu12 12.5.3.2 which is incompatible.\n",
      "torch 2.6.0+cu124 requires nvidia-cuda-cupti-cu12==12.4.127; platform_system == \"Linux\" and platform_machine == \"x86_64\", but you have nvidia-cuda-cupti-cu12 12.5.82 which is incompatible.\n",
      "torch 2.6.0+cu124 requires nvidia-cuda-nvrtc-cu12==12.4.127; platform_system == \"Linux\" and platform_machine == \"x86_64\", but you have nvidia-cuda-nvrtc-cu12 12.5.82 which is incompatible.\n",
      "torch 2.6.0+cu124 requires nvidia-cuda-runtime-cu12==12.4.127; platform_system == \"Linux\" and platform_machine == \"x86_64\", but you have nvidia-cuda-runtime-cu12 12.5.82 which is incompatible.\n",
      "torch 2.6.0+cu124 requires nvidia-cudnn-cu12==9.1.0.70; platform_system == \"Linux\" and platform_machine == \"x86_64\", but you have nvidia-cudnn-cu12 9.3.0.75 which is incompatible.\n",
      "torch 2.6.0+cu124 requires nvidia-cufft-cu12==11.2.1.3; platform_system == \"Linux\" and platform_machine == \"x86_64\", but you have nvidia-cufft-cu12 11.2.3.61 which is incompatible.\n",
      "torch 2.6.0+cu124 requires nvidia-curand-cu12==10.3.5.147; platform_system == \"Linux\" and platform_machine == \"x86_64\", but you have nvidia-curand-cu12 10.3.6.82 which is incompatible.\n",
      "torch 2.6.0+cu124 requires nvidia-cusolver-cu12==11.6.1.9; platform_system == \"Linux\" and platform_machine == \"x86_64\", but you have nvidia-cusolver-cu12 11.6.3.83 which is incompatible.\n",
      "torch 2.6.0+cu124 requires nvidia-cusparse-cu12==12.3.1.170; platform_system == \"Linux\" and platform_machine == \"x86_64\", but you have nvidia-cusparse-cu12 12.5.1.3 which is incompatible.\n",
      "torch 2.6.0+cu124 requires nvidia-nvjitlink-cu12==12.4.127; platform_system == \"Linux\" and platform_machine == \"x86_64\", but you have nvidia-nvjitlink-cu12 12.5.82 which is incompatible.\u001b[0m\u001b[31m\n",
      "\u001b[0mSuccessfully installed datasets-3.5.0 dill-0.3.8 fsspec-2024.12.0 multiprocess-0.70.16 xxhash-3.5.0\n"
     ]
    }
   ],
   "source": [
    "!pip install datasets\n",
    "from datasets import load_dataset"
   ]
  },
  {
   "cell_type": "markdown",
   "metadata": {
    "id": "Gax-9m5W8WEt"
   },
   "source": [
    "2. Importing all the libraries"
   ]
  },
  {
   "cell_type": "code",
   "execution_count": 2,
   "metadata": {
    "id": "1Txd1aJybgO7"
   },
   "outputs": [],
   "source": [
    "import math\n",
    "import time\n",
    "import torch\n",
    "import torch.nn as neuralNet\n",
    "import torch.optim as optim\n",
    "from torch.utils.data import DataLoader, Dataset\n",
    "\n",
    "import pandas as pd\n",
    "import matplotlib.pyplot as plot\n",
    "import seaborn as sns\n",
    "from collections import Counter\n",
    "import nltk\n",
    "from nltk.corpus import stopwords\n",
    "import scipy.stats as stats\n",
    "import matplotlib.font_manager as fm\n"
   ]
  },
  {
   "cell_type": "markdown",
   "metadata": {
    "id": "Tbfkmw2f8WEt"
   },
   "source": [
    "3. Dataset Loading and Build vocabulary"
   ]
  },
  {
   "cell_type": "code",
   "execution_count": 3,
   "metadata": {
    "colab": {
     "base_uri": "https://localhost:8080/",
     "height": 249,
     "referenced_widgets": [
      "68652fab591243a9a435064dcaed0d07",
      "7d668d7f058e4c7ea4e8af63c1127418",
      "99624688aeb14f93a3dd9c1e5a4af61b",
      "50051f46acf74bbe9181079e91e0c122",
      "aade90b89b69432c8be80036ba948f3b",
      "47c96ab25cf641ce91d1128a476c2399",
      "426bf9e6c6de4f95a25c04f6a6be7792",
      "c8bcd7fbfada422dbcfc350c5ea5f976",
      "9377f87984e84ca4b19a0df5dfd666c8",
      "133767cb592e4c3eb5487ce92e685397",
      "e95247b2d0544b1ba776e2473eb2e210",
      "0427f0f86a044270898d6cf0dfbea974",
      "6cbf55a4b3064538864231cdec0ee341",
      "2b781a2559cd4c9fbbfde42c70ddfbb4",
      "b3d46a9292024cfba8e619099b679e0e",
      "8ed83ed75f674c568c41127c781bcd54",
      "5481f67b598c422aa24ec87321a7eec0",
      "53b2322f246342bcbf330fe38e419e23",
      "0b007fc967bd48939ba6734a1cb948f1",
      "aa70910aaafb420bba90ecb0b4c9798f",
      "740f34e9b0014767979edd6139633295",
      "7659b34639de4cfe8281cf6668fc02d4",
      "2746c431da874e0092cf10a753f1dfce",
      "b5a05f4697514ed08b004a4b002bedc7",
      "98ac788d897d4455b9bcfaee64724be6",
      "7a4bc1e9726946fcb4df488c0a73ce24",
      "f723b97e0bd34d148f699ad1b5019a6a",
      "4b222b8cb9e74d8baf82ac26bd3d1352",
      "a9785112c9c14b4aa253d77d67ac34ff",
      "ebfb56167e6e49528eb22a7f8d458814",
      "1fb4412b61f1495c8912bea184d2f852",
      "84baa0d77bae4b3fae6709df365c652f",
      "a27f5df37e5146bcb221f60f26c4bb12",
      "2e20c0b08b30441aac77014031a2f50c",
      "1b9847609cd04624aeb968bfac925bcf",
      "92606df036eb44afa3e81ef0762cf90f",
      "0f1c9e7405224df2bec2c8ca4dbd366c",
      "79cddf66dc5b450491f1131c7a0a498d",
      "ca051e376cbd41cf8cd3e800eccc5d77",
      "e7978c3d3c964640863db26b6d517fa9",
      "da7ebb139b784b81bbceb5f2bfb12474",
      "ec53e209714d4d29bf2434776dbf5042",
      "c27c433de2ae421b898c26245e5e7261",
      "9a013342360a42d1a444d41546e9092d"
     ]
    },
    "id": "cjAFJhXZbgO7",
    "outputId": "d5689c4f-4985-4bb7-92a2-199be2fe27db"
   },
   "outputs": [
    {
     "name": "stderr",
     "output_type": "stream",
     "text": [
      "/usr/local/lib/python3.11/dist-packages/huggingface_hub/utils/_auth.py:94: UserWarning: \n",
      "The secret `HF_TOKEN` does not exist in your Colab secrets.\n",
      "To authenticate with the Hugging Face Hub, create a token in your settings tab (https://huggingface.co/settings/tokens), set it as secret in your Google Colab and restart your session.\n",
      "You will be able to reuse this secret in all of your notebooks.\n",
      "Please note that authentication is recommended but still optional to access public models or datasets.\n",
      "  warnings.warn(\n"
     ]
    },
    {
     "data": {
      "application/vnd.jupyter.widget-view+json": {
       "model_id": "68652fab591243a9a435064dcaed0d07",
       "version_major": 2,
       "version_minor": 0
      },
      "text/plain": [
       "README.md:   0%|          | 0.00/8.93k [00:00<?, ?B/s]"
      ]
     },
     "metadata": {},
     "output_type": "display_data"
    },
    {
     "data": {
      "application/vnd.jupyter.widget-view+json": {
       "model_id": "0427f0f86a044270898d6cf0dfbea974",
       "version_major": 2,
       "version_minor": 0
      },
      "text/plain": [
       "tatoeba.py:   0%|          | 0.00/4.41k [00:00<?, ?B/s]"
      ]
     },
     "metadata": {},
     "output_type": "display_data"
    },
    {
     "data": {
      "application/vnd.jupyter.widget-view+json": {
       "model_id": "2746c431da874e0092cf10a753f1dfce",
       "version_major": 2,
       "version_minor": 0
      },
      "text/plain": [
       "Downloading data:   0%|          | 0.00/344k [00:00<?, ?B/s]"
      ]
     },
     "metadata": {},
     "output_type": "display_data"
    },
    {
     "data": {
      "application/vnd.jupyter.widget-view+json": {
       "model_id": "2e20c0b08b30441aac77014031a2f50c",
       "version_major": 2,
       "version_minor": 0
      },
      "text/plain": [
       "Generating train split: 0 examples [00:00, ? examples/s]"
      ]
     },
     "metadata": {},
     "output_type": "display_data"
    }
   ],
   "source": [
    "rawData = load_dataset(\"tatoeba\", lang1=\"en\", lang2=\"hi\", trust_remote_code=True)\n",
    "pairedData = rawData[\"train\"] if \"train\" in rawData else rawData\n",
    "\n",
    "\n",
    "def split_text(sentence):\n",
    "    return sentence.lower().split()\n",
    "\n",
    "specialTokens = ['<pad>', '<sos>', '<eos>', '<unk>']\n",
    "\n",
    "def vocabCreation(pairedData, language):\n",
    "    distinctWords = set()\n",
    "    for entry in pairedData:\n",
    "        text = entry[\"translation\"][language]\n",
    "        words = split_text(text)\n",
    "        distinctWords.update(words)\n",
    "    vocabList = specialTokens + sorted(list(distinctWords))\n",
    "    word_to_idx = {word: idx for idx, word in enumerate(vocabList)}\n",
    "    idx_to_word = {idx: word for word, idx in word_to_idx.items()}\n",
    "    return word_to_idx, idx_to_word\n",
    "\n",
    "source_word_to_idx, source_idx_to_word = vocabCreation(pairedData, \"en\")\n",
    "target_word_to_idx, target_idx_to_word = vocabCreation(pairedData, \"hi\")\n",
    "\n",
    "vocab_size_source = len(source_word_to_idx)\n",
    "vocab_size_target = len(target_word_to_idx)\n",
    "\n",
    "IDX_PAD_SOURCE = source_word_to_idx[\"<pad>\"]\n",
    "IDX_PAD_TARGET = target_word_to_idx[\"<pad>\"]\n",
    "IDX_SOS_TARGET = target_word_to_idx[\"<sos>\"]\n",
    "IDX_EOS_TARGET = target_word_to_idx[\"<eos>\"]\n",
    "\n",
    "def text_to_indices(text, word_to_idx):\n",
    "    words = split_text(text)\n",
    "    return [word_to_idx.get(word, word_to_idx[\"<unk>\"]) for word in words]"
   ]
  },
  {
   "cell_type": "markdown",
   "metadata": {
    "id": "7pxD5g3X8WEu"
   },
   "source": [
    "4. Data Analysis"
   ]
  },
  {
   "cell_type": "code",
   "execution_count": 6,
   "metadata": {
    "colab": {
     "base_uri": "https://localhost:8080/",
     "height": 1000
    },
    "id": "01-CiuGlh_9z",
    "outputId": "fb63cfe3-c40f-4dc3-a11b-4ec950c0188c"
   },
   "outputs": [
    {
     "name": "stderr",
     "output_type": "stream",
     "text": [
      "[nltk_data] Downloading package stopwords to /root/nltk_data...\n",
      "[nltk_data]   Package stopwords is already up-to-date!\n"
     ]
    },
    {
     "data": {
      "image/png": "[encoded data removed]",
      "text/plain": [
       "<Figure size 1200x400 with 2 Axes>"
      ]
     },
     "metadata": {},
     "output_type": "display_data"
    },
    {
     "data": {
      "image/png": "[encoded data removed]",
      "text/plain": [
       "<Figure size 700x900 with 2 Axes>"
      ]
     },
     "metadata": {},
     "output_type": "display_data"
    },
    {
     "data": {
      "image/png": "[encoded data removed]",
      "text/plain": [
       "<Figure size 1200x400 with 1 Axes>"
      ]
     },
     "metadata": {},
     "output_type": "display_data"
    },
    {
     "name": "stdout",
     "output_type": "stream",
     "text": [
      "Pearson r = 0.86 (p = 0)\n"
     ]
    }
   ],
   "source": [
    "import warnings\n",
    "import nltk\n",
    "from nltk.corpus import stopwords\n",
    "from datasets import load_dataset\n",
    "import pandas as pd\n",
    "import matplotlib.pyplot as plot\n",
    "import seaborn as sns\n",
    "from collections import Counter\n",
    "import matplotlib.font_manager as fm\n",
    "import scipy.stats as stats\n",
    "\n",
    "warnings.filterwarnings(\"ignore\", \"Glyph.*missing from font\", UserWarning)\n",
    "\n",
    "nltk.download('stopwords')\n",
    "stopEn = set(stopwords.words('english'))\n",
    "stopHi = {\"का\", \"है\", \"और\", \"में\", \"की\", \"से\"}\n",
    "\n",
    "rawData = load_dataset(\"tatoeba\", lang1=\"en\", lang2=\"hi\", trust_remote_code=True)\n",
    "dataset = pd.DataFrame(rawData['train'])\n",
    "dataset['enText'] = dataset['translation'].str['en'].fillna('')\n",
    "dataset['hiText'] = dataset['translation'].str['hi'].fillna('')\n",
    "\n",
    "dataset['enLen'] = dataset['enText'].str.split().str.len()\n",
    "dataset['hiLen'] = dataset['hiText'].str.split().str.len()\n",
    "\n",
    "englishWords = [\n",
    "    word.lower()\n",
    "    for sentence in dataset['enText']\n",
    "    for word in sentence.split()\n",
    "    if word.lower() not in stopEn]\n",
    "\n",
    "hindiWords = [\n",
    "    word\n",
    "    for sentence in dataset['hiText']\n",
    "    for word in sentence.split()\n",
    "    if word not in stopHi]\n",
    "\n",
    "topEnglishWords = pd.DataFrame(\n",
    "    Counter(englishWords).most_common(20),\n",
    "    columns=['Word', 'Count'])\n",
    "\n",
    "topHindiWords = pd.DataFrame(\n",
    "    Counter(hindiWords).most_common(20),\n",
    "    columns=['Word', 'Count'])\n",
    "\n",
    "hiFontProperties = fm.FontProperties(fname=\"Lohit-Devanagari.ttf\")\n",
    "\n",
    "sns.set_theme(style=\"whitegrid\", palette=\"deep\")\n",
    "\n",
    "figLenDist, axesLenDist = plot.subplots(1, 2, figsize=(12, 4), sharey=True)\n",
    "for ax, col, title in zip(\n",
    "    axesLenDist,\n",
    "    ['enLen', 'hiLen'],\n",
    "    ['English', 'Hindi']\n",
    "):\n",
    "    sns.histplot(dataset[col], bins=30, kde=True, ax=ax)\n",
    "    meanVal = dataset[col].mean()\n",
    "    ax.axvline(meanVal, linestyle='--', label=f\"Mean {meanVal:.1f}\")\n",
    "    ax.set_title(f\"{title} Sentence Lengths\")\n",
    "    ax.set_xlabel(\"Words per sentence\")\n",
    "    ax.legend()\n",
    "plot.tight_layout()\n",
    "plot.show()\n",
    "\n",
    "\n",
    "figWordFreq, (axEnglish, axHindi) = plot.subplots(2, 1, figsize=(7, 9))\n",
    "sns.barplot(data=topEnglishWords, x='Count', y='Word', ax=axEnglish)\n",
    "axEnglish.set_title(\"Details of top 20 English Words\")\n",
    "axEnglish.bar_label(axEnglish.containers[0])\n",
    "\n",
    "sns.barplot(data=topHindiWords, x='Count', y='Word', ax=axHindi)\n",
    "axHindi.set_title(\"Details of top 20 Hindi Words\")\n",
    "for label in axHindi.get_yticklabels():\n",
    "    txt = label.get_text()\n",
    "    if any('\\u0900' <= ch <= '\\u097F' for ch in txt):\n",
    "        label.set_fontproperties(hiFontProperties)\n",
    "axHindi.bar_label(axHindi.containers[0])\n",
    "plot.tight_layout()\n",
    "plot.show()\n",
    "\n",
    "figScatterReg, axScatterReg = plot.subplots(figsize=(12, 4))\n",
    "sns.regplot(\n",
    "    x='enLen',\n",
    "    y='hiLen',\n",
    "    data=dataset,\n",
    "    scatter_kws={'s': 10},\n",
    "    line_kws={'linestyle': '--'},\n",
    "    ax=axScatterReg\n",
    ")\n",
    "axScatterReg.set_title(\"English vs. Hindi Sentence Length\")\n",
    "axScatterReg.set_xlabel(\"English length (words)\")\n",
    "axScatterReg.set_ylabel(\"Hindi length (words)\")\n",
    "plot.tight_layout()\n",
    "plot.show()\n",
    "\n",
    "pearsonR, pValue = stats.pearsonr(dataset['enLen'], dataset['hiLen'])\n",
    "print(f\"Pearson r = {pearsonR:.2f} (p = {pValue:.3g})\")"
   ]
  },
  {
   "cell_type": "markdown",
   "metadata": {
    "id": "3dXufpaN8WEu"
   },
   "source": [
    "5. Creating a Custom Dataset Class & Train/Validation Split"
   ]
  },
  {
   "cell_type": "code",
   "execution_count": 7,
   "metadata": {
    "id": "Y1qHW2-8bgO8"
   },
   "outputs": [],
   "source": [
    "class BilingualDataset(Dataset):\n",
    "    def __init__(self, pairedData, source_word_to_idx, target_word_to_idx, max_length=50):\n",
    "        self.pairedData = pairedData\n",
    "        self.source_word_to_idx = source_word_to_idx\n",
    "        self.target_word_to_idx = target_word_to_idx\n",
    "        self.max_length = max_length\n",
    "\n",
    "    def __len__(self):\n",
    "        return len(self.pairedData)\n",
    "\n",
    "    def __getitem__(self, idx):\n",
    "        entry = self.pairedData[idx]\n",
    "        textSource = entry[\"translation\"][\"en\"]\n",
    "        textTarget = entry[\"translation\"][\"hi\"]\n",
    "\n",
    "        sourceTokens = text_to_indices(textSource, self.source_word_to_idx)\n",
    "        targetTokens = [IDX_SOS_TARGET] + text_to_indices(textTarget, self.target_word_to_idx) + [IDX_EOS_TARGET]\n",
    "\n",
    "        sourceTokens = sourceTokens[:self.max_length] + [IDX_PAD_SOURCE] * (self.max_length - len(sourceTokens))\n",
    "        targetTokens = targetTokens[:self.max_length] + [IDX_PAD_TARGET] * (self.max_length - len(targetTokens))\n",
    "\n",
    "        return torch.tensor(sourceTokens, dtype=torch.long), torch.tensor(targetTokens, dtype=torch.long)\n",
    "\n",
    "dataSplit = pairedData.train_test_split(test_size=0.1)\n",
    "max_length = 60\n",
    "train_data = BilingualDataset(dataSplit['train'], source_word_to_idx, target_word_to_idx, max_length=max_length)\n",
    "validation_data = BilingualDataset(dataSplit['test'], source_word_to_idx, target_word_to_idx, max_length=max_length)\n",
    "\n",
    "trainLoader = DataLoader(train_data, batch_size=32, shuffle=True)\n",
    "valLoader = DataLoader(validation_data, batch_size=32, shuffle=False)"
   ]
  },
  {
   "cell_type": "markdown",
   "metadata": {
    "id": "56CbpdrN8WEv"
   },
   "source": [
    "6. Define Positional Encoding"
   ]
  },
  {
   "cell_type": "code",
   "execution_count": 8,
   "metadata": {
    "id": "ZoR3Cr4ybgO8"
   },
   "outputs": [],
   "source": [
    "class PositionEmbedding(neuralNet.Module):\n",
    "    def __init__(self, model_dim, dropout_rate=0.2, max_len=5000):\n",
    "        super().__init__()\n",
    "        self.dropout = neuralNet.Dropout(p=dropout_rate)\n",
    "        pos_embed = torch.zeros(max_len, model_dim)\n",
    "        pos_index = torch.arange(0, max_len, dtype=torch.float).unsqueeze(1)\n",
    "        div_factor = torch.exp(torch.arange(0, model_dim, 2).float() * (-math.log(10000.0) / model_dim))\n",
    "        pos_embed[:, 0::2] = torch.sin(pos_index * div_factor)\n",
    "        pos_embed[:, 1::2] = torch.cos(pos_index * div_factor)\n",
    "        pos_embed = pos_embed.unsqueeze(0)\n",
    "        self.register_buffer(\"pos_embed\", pos_embed)\n",
    "\n",
    "    def forward(self, xVar):\n",
    "        xVar = xVar + self.pos_embed[:, :xVar.size(1)]\n",
    "        return self.dropout(xVar)"
   ]
  },
  {
   "cell_type": "markdown",
   "metadata": {
    "id": "6vCxz3Z38WEv"
   },
   "source": [
    "7. Define Transformer Model"
   ]
  },
  {
   "cell_type": "code",
   "execution_count": 9,
   "metadata": {
    "id": "u3F5hhJRbgO8"
   },
   "outputs": [],
   "source": [
    "class TransformerModel(neuralNet.Module):\n",
    "    def __init__(self, encoder_layers, decoder_layers, embedding_dim,\n",
    "                 attention_heads, source_vocab_size, target_vocab_size, feedforward_dim=512, dropout_rate=0.1):\n",
    "        super().__init__()\n",
    "        self.transformer = neuralNet.Transformer(d_model=embedding_dim, nhead=attention_heads,\n",
    "                                          num_encoder_layers=encoder_layers,\n",
    "                                          num_decoder_layers=decoder_layers,\n",
    "                                          dim_feedforward=feedforward_dim, dropout=dropout_rate)\n",
    "\n",
    "        self.output_layer = neuralNet.Linear(embedding_dim, target_vocab_size)\n",
    "        self.source_embedding = neuralNet.Embedding(source_vocab_size, embedding_dim)\n",
    "        self.target_embedding = neuralNet.Embedding(target_vocab_size, embedding_dim)\n",
    "        self.positional_encoding = PositionEmbedding(embedding_dim, dropout_rate=dropout_rate)\n",
    "\n",
    "    def forward(self, src, tgt, src_mask, tgt_mask, src_pad_mask, tgt_pad_mask, memory_pad_mask):\n",
    "        embedSource = self.positional_encoding(self.source_embedding(src))\n",
    "        embedTarget = self.positional_encoding(self.target_embedding(tgt))\n",
    "        memory = self.transformer.encoder(embedSource.transpose(0, 1), src_key_padding_mask=src_pad_mask)\n",
    "        output = self.transformer.decoder(embedTarget.transpose(0, 1), memory, tgt_mask=tgt_mask,\n",
    "                                          tgt_key_padding_mask=tgt_pad_mask,\n",
    "                                          memory_key_padding_mask=memory_pad_mask)\n",
    "        return self.output_layer(output.transpose(0, 1))"
   ]
  },
  {
   "cell_type": "markdown",
   "metadata": {
    "id": "tZAT8Eeg8WEv"
   },
   "source": [
    "8. Helper Functions for Masks"
   ]
  },
  {
   "cell_type": "code",
   "execution_count": 10,
   "metadata": {
    "id": "5WcVBUnPbgO8"
   },
   "outputs": [],
   "source": [
    "import torch\n",
    "from typing import Tuple\n",
    "\n",
    "def creatingMask(size: int, device: torch.device = None) -> torch.BoolTensor:\n",
    "    device = device or torch.device('cpu')\n",
    "    return torch.triu(torch.ones((size, size), device=device), diagonal=1).bool()\n",
    "\n",
    "def preparingMaks(\n",
    "    src: torch.Tensor,\n",
    "    tgt: torch.Tensor,\n",
    "    srcPadIdx: int,\n",
    "    tgtPadIdx: int,\n",
    "    device: torch.device = None\n",
    ") -> Tuple[torch.BoolTensor, torch.BoolTensor, torch.BoolTensor, torch.BoolTensor]:\n",
    "    device = device or src.device\n",
    "    _, srcLen = src.shape\n",
    "    _, tgtLen = tgt.shape\n",
    "    srcMask = torch.zeros((srcLen, srcLen), device=device, dtype=torch.bool)\n",
    "    tgtMask = creatingMask(tgtLen, device=device)\n",
    "    srcPadMask = src.eq(srcPadIdx)\n",
    "    tgtPadMask = tgt.eq(tgtPadIdx)\n",
    "    return srcMask, tgtMask, srcPadMask, tgtPadMask"
   ]
  },
  {
   "cell_type": "markdown",
   "metadata": {
    "id": "xDwgJb0J8WEv"
   },
   "source": [
    "9. Initialize Model, Loss, and Optimizer"
   ]
  },
  {
   "cell_type": "code",
   "execution_count": 11,
   "metadata": {
    "colab": {
     "base_uri": "https://localhost:8080/"
    },
    "id": "EgRoG0XzbgO8",
    "outputId": "8cc01745-7b5c-401e-c965-9011fccb5372"
   },
   "outputs": [
    {
     "name": "stderr",
     "output_type": "stream",
     "text": [
      "/usr/local/lib/python3.11/dist-packages/torch/nn/modules/transformer.py:385: UserWarning: enable_nested_tensor is True, but self.use_nested_tensor is False because encoder_layer.self_attn.batch_first was not True(use batch_first for better inference performance)\n",
      "  warnings.warn(\n"
     ]
    }
   ],
   "source": [
    "ENCODER_LAYERS = 3\n",
    "DECODER_LAYERS = 3\n",
    "EMBEDDING_DIM = 256\n",
    "NUM_HEADS = 8\n",
    "FEEDFORWARD_DIM = 512\n",
    "DROPOUT_RATE = 0.2\n",
    "\n",
    "device = torch.device(\"cuda\" if torch.cuda.is_available() else \"cpu\")\n",
    "\n",
    "model = TransformerModel(\n",
    "    ENCODER_LAYERS, DECODER_LAYERS, EMBEDDING_DIM, NUM_HEADS,\n",
    "    vocab_size_source, vocab_size_target, FEEDFORWARD_DIM, DROPOUT_RATE\n",
    ").to(device)\n",
    "\n",
    "lossFunction = neuralNet.CrossEntropyLoss(ignore_index=IDX_PAD_TARGET)\n",
    "\n",
    "optimizer = optim.Adam(model.parameters(), lr=0.0001)"
   ]
  },
  {
   "cell_type": "markdown",
   "metadata": {
    "id": "u-AUJPHH8WEv"
   },
   "source": [
    "10. Training & Evaluation Loops"
   ]
  },
  {
   "cell_type": "code",
   "execution_count": 12,
   "metadata": {
    "colab": {
     "base_uri": "https://localhost:8080/"
    },
    "id": "OUG-ancNbgO8",
    "outputId": "aa56e6f9-f02d-436e-d7ba-5c4b5c96281c"
   },
   "outputs": [
    {
     "name": "stdout",
     "output_type": "stream",
     "text": [
      "Epoch  1 | Train Loss: 6.5242, PPL: 681.45, Acc: 15.48% | Val   Loss: 5.8344, PPL: 341.86, Acc: 19.07% | Time: 13.6s\n",
      "Epoch  2 | Train Loss: 5.6493, PPL: 284.08, Acc: 20.58% | Val   Loss: 5.5640, PPL: 260.87, Acc: 21.93% | Time: 10.8s\n",
      "Epoch  3 | Train Loss: 5.3785, PPL: 216.71, Acc: 22.79% | Val   Loss: 5.3541, PPL: 211.47, Acc: 24.83% | Time: 17.9s\n",
      "Epoch  4 | Train Loss: 5.1760, PPL: 176.97, Acc: 24.58% | Val   Loss: 5.1846, PPL: 178.50, Acc: 26.98% | Time: 14.9s\n",
      "Epoch  5 | Train Loss: 5.0062, PPL: 149.33, Acc: 26.07% | Val   Loss: 5.0622, PPL: 157.93, Acc: 28.25% | Time: 10.9s\n",
      "Epoch  6 | Train Loss: 4.8490, PPL: 127.61, Acc: 27.32% | Val   Loss: 4.9617, PPL: 142.83, Acc: 29.24% | Time: 11.1s\n",
      "Epoch  7 | Train Loss: 4.7027, PPL: 110.24, Acc: 28.54% | Val   Loss: 4.8481, PPL: 127.50, Acc: 30.63% | Time: 10.9s\n",
      "Epoch  8 | Train Loss: 4.5725, PPL: 96.79, Acc: 29.56% | Val   Loss: 4.7859, PPL: 119.80, Acc: 31.18% | Time: 10.9s\n",
      "Epoch  9 | Train Loss: 4.4507, PPL: 85.69, Acc: 30.51% | Val   Loss: 4.6795, PPL: 107.72, Acc: 32.34% | Time: 10.9s\n",
      "Epoch 10 | Train Loss: 4.3282, PPL: 75.81, Acc: 31.64% | Val   Loss: 4.5914, PPL: 98.63, Acc: 33.44% | Time: 11.0s\n",
      "Epoch 11 | Train Loss: 4.2115, PPL: 67.45, Acc: 32.54% | Val   Loss: 4.5582, PPL: 95.41, Acc: 33.81% | Time: 10.8s\n",
      "Epoch 12 | Train Loss: 4.1027, PPL: 60.51, Acc: 33.49% | Val   Loss: 4.4903, PPL: 89.15, Acc: 34.65% | Time: 11.1s\n",
      "Epoch 13 | Train Loss: 4.0011, PPL: 54.66, Acc: 33.98% | Val   Loss: 4.4431, PPL: 85.04, Acc: 35.56% | Time: 10.7s\n",
      "Epoch 14 | Train Loss: 3.8953, PPL: 49.17, Acc: 34.90% | Val   Loss: 4.3670, PPL: 78.80, Acc: 36.49% | Time: 10.9s\n",
      "Epoch 15 | Train Loss: 3.7999, PPL: 44.70, Acc: 35.48% | Val   Loss: 4.3292, PPL: 75.88, Acc: 36.59% | Time: 10.9s\n",
      "Epoch 16 | Train Loss: 3.6990, PPL: 40.41, Acc: 36.33% | Val   Loss: 4.2827, PPL: 72.44, Acc: 37.48% | Time: 10.9s\n",
      "Epoch 17 | Train Loss: 3.6111, PPL: 37.01, Acc: 37.11% | Val   Loss: 4.2541, PPL: 70.39, Acc: 37.97% | Time: 12.0s\n",
      "Epoch 18 | Train Loss: 3.5160, PPL: 33.65, Acc: 37.86% | Val   Loss: 4.1915, PPL: 66.12, Acc: 38.96% | Time: 10.9s\n",
      "Epoch 19 | Train Loss: 3.4277, PPL: 30.80, Acc: 38.56% | Val   Loss: 4.1797, PPL: 65.35, Acc: 39.27% | Time: 10.9s\n",
      "Epoch 20 | Train Loss: 3.3412, PPL: 28.25, Acc: 39.28% | Val   Loss: 4.1442, PPL: 63.06, Acc: 39.76% | Time: 11.2s\n"
     ]
    }
   ],
   "source": [
    "import time\n",
    "import math\n",
    "import torch\n",
    "from torch.amp import autocast, GradScaler\n",
    "from torch.optim.lr_scheduler import ReduceLROnPlateau\n",
    "\n",
    "def trainAndEvaluate(\n",
    "    model: torch.nn.Module,\n",
    "    optimizer: torch.optim.Optimizer,\n",
    "    lossFunction,\n",
    "    trainLoader,\n",
    "    valLoader,\n",
    "    device: torch.device = None,\n",
    "    numEpochs: int = 20\n",
    "):\n",
    "    device = device or torch.device('cpu')\n",
    "    scaler = GradScaler(device.type)\n",
    "    scheduler = ReduceLROnPlateau(optimizer, mode='min', factor=0.5, patience=1)\n",
    "\n",
    "    def calculateAccuracy(logits, target, padIdx):\n",
    "        preds = logits.argmax(dim=-1)\n",
    "        mask  = target.ne(padIdx)\n",
    "        return (preds == target).masked_select(mask).sum().item(), mask.sum().item()\n",
    "\n",
    "    for epoch in range(1, numEpochs + 1):\n",
    "        startTime = time.time()\n",
    "        model.train()\n",
    "        trainLoss = trainCorrect = trainTokens = 0\n",
    "\n",
    "        for batch in trainLoader:\n",
    "            try:\n",
    "                srcBatch, tgtBatch = batch\n",
    "            except:\n",
    "                continue\n",
    "\n",
    "            srcBatch, tgtBatch = srcBatch.to(device), tgtBatch.to(device)\n",
    "            srcInput, tgtOutput = tgtBatch[:, :-1], tgtBatch[:, 1:]\n",
    "            srcMask, tgtMask, srcPadMask, tgtPadMask = preparingMaks(\n",
    "                srcBatch, srcInput, IDX_PAD_SOURCE, IDX_PAD_TARGET, device=device\n",
    "            )\n",
    "\n",
    "            optimizer.zero_grad()\n",
    "            with autocast(device.type):\n",
    "                logits = model(srcBatch, srcInput, srcMask, tgtMask, srcPadMask, tgtPadMask, srcPadMask)\n",
    "                loss   = lossFunction(\n",
    "                    logits.reshape(-1, logits.size(-1)),\n",
    "                    tgtOutput.reshape(-1)\n",
    "                )\n",
    "\n",
    "            scaler.scale(loss).backward()\n",
    "            scaler.unscale_(optimizer)\n",
    "            torch.nn.utils.clip_grad_norm_(model.parameters(), 1.0)\n",
    "            scaler.step(optimizer)\n",
    "            scaler.update()\n",
    "\n",
    "            trainLoss   += loss.item()\n",
    "            c, t         = calculateAccuracy(logits, tgtOutput, IDX_PAD_TARGET)\n",
    "            trainCorrect += c\n",
    "            trainTokens  += t\n",
    "\n",
    "        avgTrainLoss = trainLoss / len(trainLoader)\n",
    "        trainPPL     = math.exp(avgTrainLoss)\n",
    "        trainAcc     = trainCorrect / trainTokens if trainTokens else 0\n",
    "\n",
    "        model.eval()\n",
    "        valLoss = valCorrect = valTokens = 0\n",
    "        if valLoader:\n",
    "            with torch.no_grad():\n",
    "                for batch in valLoader:\n",
    "                    try:\n",
    "                        srcBatch, tgtBatch = batch\n",
    "                    except:\n",
    "                        continue\n",
    "\n",
    "                    srcBatch, tgtBatch = srcBatch.to(device), tgtBatch.to(device)\n",
    "                    srcInput, tgtOutput = tgtBatch[:, :-1], tgtBatch[:, 1:]\n",
    "                    srcMask, tgtMask, srcPadMask, tgtPadMask = preparingMaks(\n",
    "                        srcBatch, srcInput, IDX_PAD_SOURCE, IDX_PAD_TARGET, device=device\n",
    "                    )\n",
    "\n",
    "                    logits = model(srcBatch, srcInput, srcMask, tgtMask, srcPadMask, tgtPadMask, srcPadMask)\n",
    "                    loss   = lossFunction(\n",
    "                        logits.reshape(-1, logits.size(-1)),\n",
    "                        tgtOutput.reshape(-1)\n",
    "                    )\n",
    "\n",
    "                    valLoss    += loss.item()\n",
    "                    c, t        = calculateAccuracy(logits, tgtOutput, IDX_PAD_TARGET)\n",
    "                    valCorrect += c\n",
    "                    valTokens  += t\n",
    "\n",
    "        avgValLoss = valLoss / len(valLoader) if valLoader else 0\n",
    "        valPPL     = math.exp(avgValLoss) if avgValLoss < 100 else float('inf')\n",
    "        valAcc     = valCorrect / valTokens if valTokens else 0\n",
    "\n",
    "        scheduler.step(avgValLoss)\n",
    "        elapsedTime = time.time() - startTime\n",
    "\n",
    "        print(\n",
    "            f\"Epoch {epoch:2d} | \"\n",
    "            f\"Train Loss: {avgTrainLoss:.4f}, PPL: {trainPPL:.2f}, Acc: {trainAcc*100:5.2f}% | \"\n",
    "            f\"Val   Loss: {avgValLoss:.4f}, PPL: {valPPL:.2f}, Acc: {valAcc*100:5.2f}% | \"\n",
    "            f\"Time: {elapsedTime:.1f}s\"\n",
    "        )\n",
    "\n",
    "NUM_EPOCHS = 20\n",
    "trainAndEvaluate(model, optimizer, lossFunction, trainLoader, valLoader, device, NUM_EPOCHS)"
   ]
  },
  {
   "cell_type": "markdown",
   "metadata": {
    "id": "P8B3JwE08WEw"
   },
   "source": [
    "11. Inference and testing"
   ]
  },
  {
   "cell_type": "code",
   "execution_count": 16,
   "metadata": {
    "id": "uA71wifNbgO9"
   },
   "outputs": [],
   "source": [
    "def translatingText(model, input_text, source_word_to_idx, target_idx_to_word, max_length=50):\n",
    "\n",
    "    model.eval()\n",
    "\n",
    "    tokenIndices = text_to_indices(input_text, source_word_to_idx)\n",
    "    tokenIndices = tokenIndices[:max_length]\n",
    "    tensorSource = torch.tensor(tokenIndices, dtype=torch.long).unsqueeze(0).to(device)\n",
    "\n",
    "    src_mask = torch.zeros((tensorSource.shape[1], tensorSource.shape[1]), device=device).type(torch.bool)\n",
    "\n",
    "    outputMemory = model.transformer.encoder(\n",
    "        model.positional_encoding(model.source_embedding(tensorSource)).transpose(0, 1),\n",
    "        src_key_padding_mask=(tensorSource == IDX_PAD_SOURCE)\n",
    "    )\n",
    "\n",
    "    translated_tokens = torch.tensor([[IDX_SOS_TARGET]], dtype=torch.long).to(device)\n",
    "\n",
    "    for _ in range(max_length - 1):\n",
    "        tgt_mask = creatingMask(translated_tokens.size(1)).to(device)\n",
    "        output = model.transformer.decoder(\n",
    "            model.positional_encoding(model.target_embedding(translated_tokens)).transpose(0, 1),\n",
    "            outputMemory,\n",
    "            tgt_mask=tgt_mask\n",
    "        )\n",
    "        output = model.output_layer(output.transpose(0, 1))\n",
    "\n",
    "\n",
    "        nextWord = output[:, -1, :].argmax(dim=-1).item()\n",
    "        translated_tokens = torch.cat([translated_tokens, torch.tensor([[nextWord]], dtype=torch.long).to(device)], dim=1)\n",
    "\n",
    "        if nextWord == IDX_EOS_TARGET:\n",
    "            break\n",
    "\n",
    "    final_translation = [target_idx_to_word[idx] for idx in translated_tokens.squeeze().tolist()]\n",
    "    final_translation = final_translation[1:]\n",
    "    if '<eos>' in final_translation:\n",
    "        final_translation = final_translation[:final_translation.index('<eos>')]\n",
    "\n",
    "    return \" \".join(final_translation)"
   ]
  },
  {
   "cell_type": "code",
   "execution_count": 30,
   "metadata": {
    "colab": {
     "base_uri": "https://localhost:8080/"
    },
    "id": "2t20xqvCcMgq",
    "outputId": "706abd22-74d5-4e33-fa2d-a0dff0dc1a59"
   },
   "outputs": [
    {
     "name": "stdout",
     "output_type": "stream",
     "text": [
      "Translated Sentence is given as: यह किताब\n"
     ]
    }
   ],
   "source": [
    "\n",
    "input_sentence = \"book\"\n",
    "translated_sentence = translatingText(model, input_sentence, source_word_to_idx, target_idx_to_word)\n",
    "print(\"Translated Sentence is given as:\", translated_sentence)\n"
   ]
  },
  {
   "cell_type": "code",
   "execution_count": 31,
   "metadata": {
    "colab": {
     "base_uri": "https://localhost:8080/"
    },
    "id": "hegcAKvLdnJy",
    "outputId": "cf473f18-b540-4a85-bed0-8e141e853d52"
   },
   "outputs": [
    {
     "name": "stdout",
     "output_type": "stream",
     "text": [
      "Translated Sentence is given as: तुम्हारा नाम क्या है?\n"
     ]
    }
   ],
   "source": [
    "\n",
    "input_sentence = \"What is your name?\"\n",
    "translated_sentence = translatingText(model, input_sentence, source_word_to_idx, target_idx_to_word)\n",
    "print(\"Translated Sentence is given as:\", translated_sentence)\n"
   ]
  },
  {
   "cell_type": "code",
   "execution_count": 34,
   "metadata": {
    "colab": {
     "base_uri": "https://localhost:8080/"
    },
    "id": "vzVyMv6hC7s8",
    "outputId": "cb5b1695-4b52-4876-af6b-73ed900a338f"
   },
   "outputs": [
    {
     "name": "stdout",
     "output_type": "stream",
     "text": [
      "Translated Sentence is given as: वह बहुत सुंदर है।\n"
     ]
    }
   ],
   "source": [
    "input_sentence = \"its beautiful\"\n",
    "translated_sentence = translatingText(model, input_sentence, source_word_to_idx, target_idx_to_word)\n",
    "print(\"Translated Sentence is given as:\", translated_sentence)"
   ]
  }
 ],
 "metadata": {
  "accelerator": "GPU",
  "colab": {
   "gpuType": "T4",
   "provenance": []
  },
  "kernelspec": {
   "display_name": "Python 3 (ipykernel)",
   "language": "python",
   "name": "python3"
  },
  "language_info": {
   "codemirror_mode": {
    "name": "ipython",
    "version": 3
   },
   "file_extension": ".py",
   "mimetype": "text/x-python",
   "name": "python",
   "nbconvert_exporter": "python",
   "pygments_lexer": "ipython3",
   "version": "3.13.1"
  },
  "widgets": {
   "application/vnd.jupyter.widget-state+json": {
    "0427f0f86a044270898d6cf0dfbea974": {
     "model_module": "@jupyter-widgets/controls",
     "model_module_version": "1.5.0",
     "model_name": "HBoxModel",
     "state": {
      "_dom_classes": [],
      "_model_module": "@jupyter-widgets/controls",
      "_model_module_version": "1.5.0",
      "_model_name": "HBoxModel",
      "_view_count": null,
      "_view_module": "@jupyter-widgets/controls",
      "_view_module_version": "1.5.0",
      "_view_name": "HBoxView",
      "box_style": "",
      "children": [
       "IPY_MODEL_6cbf55a4b3064538864231cdec0ee341",
       "IPY_MODEL_2b781a2559cd4c9fbbfde42c70ddfbb4",
       "IPY_MODEL_b3d46a9292024cfba8e619099b679e0e"
      ],
      "layout": "IPY_MODEL_8ed83ed75f674c568c41127c781bcd54"
     }
    },
    "0b007fc967bd48939ba6734a1cb948f1": {
     "model_module": "@jupyter-widgets/base",
     "model_module_version": "1.2.0",
     "model_name": "LayoutModel",
     "state": {
      "_model_module": "@jupyter-widgets/base",
      "_model_module_version": "1.2.0",
      "_model_name": "LayoutModel",
      "_view_count": null,
      "_view_module": "@jupyter-widgets/base",
      "_view_module_version": "1.2.0",
      "_view_name": "LayoutView",
      "align_content": null,
      "align_items": null,
      "align_self": null,
      "border": null,
      "bottom": null,
      "display": null,
      "flex": null,
      "flex_flow": null,
      "grid_area": null,
      "grid_auto_columns": null,
      "grid_auto_flow": null,
      "grid_auto_rows": null,
      "grid_column": null,
      "grid_gap": null,
      "grid_row": null,
      "grid_template_areas": null,
      "grid_template_columns": null,
      "grid_template_rows": null,
      "height": null,
      "justify_content": null,
      "justify_items": null,
      "left": null,
      "margin": null,
      "max_height": null,
      "max_width": null,
      "min_height": null,
      "min_width": null,
      "object_fit": null,
      "object_position": null,
      "order": null,
      "overflow": null,
      "overflow_x": null,
      "overflow_y": null,
      "padding": null,
      "right": null,
      "top": null,
      "visibility": null,
      "width": null
     }
    },
    "0f1c9e7405224df2bec2c8ca4dbd366c": {
     "model_module": "@jupyter-widgets/controls",
     "model_module_version": "1.5.0",
     "model_name": "HTMLModel",
     "state": {
      "_dom_classes": [],
      "_model_module": "@jupyter-widgets/controls",
      "_model_module_version": "1.5.0",
      "_model_name": "HTMLModel",
      "_view_count": null,
      "_view_module": "@jupyter-widgets/controls",
      "_view_module_version": "1.5.0",
      "_view_name": "HTMLView",
      "description": "",
      "description_tooltip": null,
      "layout": "IPY_MODEL_c27c433de2ae421b898c26245e5e7261",
      "placeholder": "​",
      "style": "IPY_MODEL_9a013342360a42d1a444d41546e9092d",
      "value": " 10949/0 [00:01&lt;00:00, 11076.51 examples/s]"
     }
    },
    "133767cb592e4c3eb5487ce92e685397": {
     "model_module": "@jupyter-widgets/base",
     "model_module_version": "1.2.0",
     "model_name": "LayoutModel",
     "state": {
      "_model_module": "@jupyter-widgets/base",
      "_model_module_version": "1.2.0",
      "_model_name": "LayoutModel",
      "_view_count": null,
      "_view_module": "@jupyter-widgets/base",
      "_view_module_version": "1.2.0",
      "_view_name": "LayoutView",
      "align_content": null,
      "align_items": null,
      "align_self": null,
      "border": null,
      "bottom": null,
      "display": null,
      "flex": null,
      "flex_flow": null,
      "grid_area": null,
      "grid_auto_columns": null,
      "grid_auto_flow": null,
      "grid_auto_rows": null,
      "grid_column": null,
      "grid_gap": null,
      "grid_row": null,
      "grid_template_areas": null,
      "grid_template_columns": null,
      "grid_template_rows": null,
      "height": null,
      "justify_content": null,
      "justify_items": null,
      "left": null,
      "margin": null,
      "max_height": null,
      "max_width": null,
      "min_height": null,
      "min_width": null,
      "object_fit": null,
      "object_position": null,
      "order": null,
      "overflow": null,
      "overflow_x": null,
      "overflow_y": null,
      "padding": null,
      "right": null,
      "top": null,
      "visibility": null,
      "width": null
     }
    },
    "1b9847609cd04624aeb968bfac925bcf": {
     "model_module": "@jupyter-widgets/controls",
     "model_module_version": "1.5.0",
     "model_name": "HTMLModel",
     "state": {
      "_dom_classes": [],
      "_model_module": "@jupyter-widgets/controls",
      "_model_module_version": "1.5.0",
      "_model_name": "HTMLModel",
      "_view_count": null,
      "_view_module": "@jupyter-widgets/controls",
      "_view_module_version": "1.5.0",
      "_view_name": "HTMLView",
      "description": "",
      "description_tooltip": null,
      "layout": "IPY_MODEL_ca051e376cbd41cf8cd3e800eccc5d77",
      "placeholder": "​",
      "style": "IPY_MODEL_e7978c3d3c964640863db26b6d517fa9",
      "value": "Generating train split: "
     }
    },
    "1fb4412b61f1495c8912bea184d2f852": {
     "model_module": "@jupyter-widgets/controls",
     "model_module_version": "1.5.0",
     "model_name": "ProgressStyleModel",
     "state": {
      "_model_module": "@jupyter-widgets/controls",
      "_model_module_version": "1.5.0",
      "_model_name": "ProgressStyleModel",
      "_view_count": null,
      "_view_module": "@jupyter-widgets/base",
      "_view_module_version": "1.2.0",
      "_view_name": "StyleView",
      "bar_color": null,
      "description_width": ""
     }
    },
    "2746c431da874e0092cf10a753f1dfce": {
     "model_module": "@jupyter-widgets/controls",
     "model_module_version": "1.5.0",
     "model_name": "HBoxModel",
     "state": {
      "_dom_classes": [],
      "_model_module": "@jupyter-widgets/controls",
      "_model_module_version": "1.5.0",
      "_model_name": "HBoxModel",
      "_view_count": null,
      "_view_module": "@jupyter-widgets/controls",
      "_view_module_version": "1.5.0",
      "_view_name": "HBoxView",
      "box_style": "",
      "children": [
       "IPY_MODEL_b5a05f4697514ed08b004a4b002bedc7",
       "IPY_MODEL_98ac788d897d4455b9bcfaee64724be6",
       "IPY_MODEL_7a4bc1e9726946fcb4df488c0a73ce24"
      ],
      "layout": "IPY_MODEL_f723b97e0bd34d148f699ad1b5019a6a"
     }
    },
    "2b781a2559cd4c9fbbfde42c70ddfbb4": {
     "model_module": "@jupyter-widgets/controls",
     "model_module_version": "1.5.0",
     "model_name": "FloatProgressModel",
     "state": {
      "_dom_classes": [],
      "_model_module": "@jupyter-widgets/controls",
      "_model_module_version": "1.5.0",
      "_model_name": "FloatProgressModel",
      "_view_count": null,
      "_view_module": "@jupyter-widgets/controls",
      "_view_module_version": "1.5.0",
      "_view_name": "ProgressView",
      "bar_style": "success",
      "description": "",
      "description_tooltip": null,
      "layout": "IPY_MODEL_0b007fc967bd48939ba6734a1cb948f1",
      "max": 4407,
      "min": 0,
      "orientation": "horizontal",
      "style": "IPY_MODEL_aa70910aaafb420bba90ecb0b4c9798f",
      "value": 4407
     }
    },
    "2e20c0b08b30441aac77014031a2f50c": {
     "model_module": "@jupyter-widgets/controls",
     "model_module_version": "1.5.0",
     "model_name": "HBoxModel",
     "state": {
      "_dom_classes": [],
      "_model_module": "@jupyter-widgets/controls",
      "_model_module_version": "1.5.0",
      "_model_name": "HBoxModel",
      "_view_count": null,
      "_view_module": "@jupyter-widgets/controls",
      "_view_module_version": "1.5.0",
      "_view_name": "HBoxView",
      "box_style": "",
      "children": [
       "IPY_MODEL_1b9847609cd04624aeb968bfac925bcf",
       "IPY_MODEL_92606df036eb44afa3e81ef0762cf90f",
       "IPY_MODEL_0f1c9e7405224df2bec2c8ca4dbd366c"
      ],
      "layout": "IPY_MODEL_79cddf66dc5b450491f1131c7a0a498d"
     }
    },
    "426bf9e6c6de4f95a25c04f6a6be7792": {
     "model_module": "@jupyter-widgets/controls",
     "model_module_version": "1.5.0",
     "model_name": "DescriptionStyleModel",
     "state": {
      "_model_module": "@jupyter-widgets/controls",
      "_model_module_version": "1.5.0",
      "_model_name": "DescriptionStyleModel",
      "_view_count": null,
      "_view_module": "@jupyter-widgets/base",
      "_view_module_version": "1.2.0",
      "_view_name": "StyleView",
      "description_width": ""
     }
    },
    "47c96ab25cf641ce91d1128a476c2399": {
     "model_module": "@jupyter-widgets/base",
     "model_module_version": "1.2.0",
     "model_name": "LayoutModel",
     "state": {
      "_model_module": "@jupyter-widgets/base",
      "_model_module_version": "1.2.0",
      "_model_name": "LayoutModel",
      "_view_count": null,
      "_view_module": "@jupyter-widgets/base",
      "_view_module_version": "1.2.0",
      "_view_name": "LayoutView",
      "align_content": null,
      "align_items": null,
      "align_self": null,
      "border": null,
      "bottom": null,
      "display": null,
      "flex": null,
      "flex_flow": null,
      "grid_area": null,
      "grid_auto_columns": null,
      "grid_auto_flow": null,
      "grid_auto_rows": null,
      "grid_column": null,
      "grid_gap": null,
      "grid_row": null,
      "grid_template_areas": null,
      "grid_template_columns": null,
      "grid_template_rows": null,
      "height": null,
      "justify_content": null,
      "justify_items": null,
      "left": null,
      "margin": null,
      "max_height": null,
      "max_width": null,
      "min_height": null,
      "min_width": null,
      "object_fit": null,
      "object_position": null,
      "order": null,
      "overflow": null,
      "overflow_x": null,
      "overflow_y": null,
      "padding": null,
      "right": null,
      "top": null,
      "visibility": null,
      "width": null
     }
    },
    "4b222b8cb9e74d8baf82ac26bd3d1352": {
     "model_module": "@jupyter-widgets/base",
     "model_module_version": "1.2.0",
     "model_name": "LayoutModel",
     "state": {
      "_model_module": "@jupyter-widgets/base",
      "_model_module_version": "1.2.0",
      "_model_name": "LayoutModel",
      "_view_count": null,
      "_view_module": "@jupyter-widgets/base",
      "_view_module_version": "1.2.0",
      "_view_name": "LayoutView",
      "align_content": null,
      "align_items": null,
      "align_self": null,
      "border": null,
      "bottom": null,
      "display": null,
      "flex": null,
      "flex_flow": null,
      "grid_area": null,
      "grid_auto_columns": null,
      "grid_auto_flow": null,
      "grid_auto_rows": null,
      "grid_column": null,
      "grid_gap": null,
      "grid_row": null,
      "grid_template_areas": null,
      "grid_template_columns": null,
      "grid_template_rows": null,
      "height": null,
      "justify_content": null,
      "justify_items": null,
      "left": null,
      "margin": null,
      "max_height": null,
      "max_width": null,
      "min_height": null,
      "min_width": null,
      "object_fit": null,
      "object_position": null,
      "order": null,
      "overflow": null,
      "overflow_x": null,
      "overflow_y": null,
      "padding": null,
      "right": null,
      "top": null,
      "visibility": null,
      "width": null
     }
    },
    "50051f46acf74bbe9181079e91e0c122": {
     "model_module": "@jupyter-widgets/controls",
     "model_module_version": "1.5.0",
     "model_name": "HTMLModel",
     "state": {
      "_dom_classes": [],
      "_model_module": "@jupyter-widgets/controls",
      "_model_module_version": "1.5.0",
      "_model_name": "HTMLModel",
      "_view_count": null,
      "_view_module": "@jupyter-widgets/controls",
      "_view_module_version": "1.5.0",
      "_view_name": "HTMLView",
      "description": "",
      "description_tooltip": null,
      "layout": "IPY_MODEL_133767cb592e4c3eb5487ce92e685397",
      "placeholder": "​",
      "style": "IPY_MODEL_e95247b2d0544b1ba776e2473eb2e210",
      "value": " 8.93k/8.93k [00:00&lt;00:00, 619kB/s]"
     }
    },
    "53b2322f246342bcbf330fe38e419e23": {
     "model_module": "@jupyter-widgets/controls",
     "model_module_version": "1.5.0",
     "model_name": "DescriptionStyleModel",
     "state": {
      "_model_module": "@jupyter-widgets/controls",
      "_model_module_version": "1.5.0",
      "_model_name": "DescriptionStyleModel",
      "_view_count": null,
      "_view_module": "@jupyter-widgets/base",
      "_view_module_version": "1.2.0",
      "_view_name": "StyleView",
      "description_width": ""
     }
    },
    "5481f67b598c422aa24ec87321a7eec0": {
     "model_module": "@jupyter-widgets/base",
     "model_module_version": "1.2.0",
     "model_name": "LayoutModel",
     "state": {
      "_model_module": "@jupyter-widgets/base",
      "_model_module_version": "1.2.0",
      "_model_name": "LayoutModel",
      "_view_count": null,
      "_view_module": "@jupyter-widgets/base",
      "_view_module_version": "1.2.0",
      "_view_name": "LayoutView",
      "align_content": null,
      "align_items": null,
      "align_self": null,
      "border": null,
      "bottom": null,
      "display": null,
      "flex": null,
      "flex_flow": null,
      "grid_area": null,
      "grid_auto_columns": null,
      "grid_auto_flow": null,
      "grid_auto_rows": null,
      "grid_column": null,
      "grid_gap": null,
      "grid_row": null,
      "grid_template_areas": null,
      "grid_template_columns": null,
      "grid_template_rows": null,
      "height": null,
      "justify_content": null,
      "justify_items": null,
      "left": null,
      "margin": null,
      "max_height": null,
      "max_width": null,
      "min_height": null,
      "min_width": null,
      "object_fit": null,
      "object_position": null,
      "order": null,
      "overflow": null,
      "overflow_x": null,
      "overflow_y": null,
      "padding": null,
      "right": null,
      "top": null,
      "visibility": null,
      "width": null
     }
    },
    "68652fab591243a9a435064dcaed0d07": {
     "model_module": "@jupyter-widgets/controls",
     "model_module_version": "1.5.0",
     "model_name": "HBoxModel",
     "state": {
      "_dom_classes": [],
      "_model_module": "@jupyter-widgets/controls",
      "_model_module_version": "1.5.0",
      "_model_name": "HBoxModel",
      "_view_count": null,
      "_view_module": "@jupyter-widgets/controls",
      "_view_module_version": "1.5.0",
      "_view_name": "HBoxView",
      "box_style": "",
      "children": [
       "IPY_MODEL_7d668d7f058e4c7ea4e8af63c1127418",
       "IPY_MODEL_99624688aeb14f93a3dd9c1e5a4af61b",
       "IPY_MODEL_50051f46acf74bbe9181079e91e0c122"
      ],
      "layout": "IPY_MODEL_aade90b89b69432c8be80036ba948f3b"
     }
    },
    "6cbf55a4b3064538864231cdec0ee341": {
     "model_module": "@jupyter-widgets/controls",
     "model_module_version": "1.5.0",
     "model_name": "HTMLModel",
     "state": {
      "_dom_classes": [],
      "_model_module": "@jupyter-widgets/controls",
      "_model_module_version": "1.5.0",
      "_model_name": "HTMLModel",
      "_view_count": null,
      "_view_module": "@jupyter-widgets/controls",
      "_view_module_version": "1.5.0",
      "_view_name": "HTMLView",
      "description": "",
      "description_tooltip": null,
      "layout": "IPY_MODEL_5481f67b598c422aa24ec87321a7eec0",
      "placeholder": "​",
      "style": "IPY_MODEL_53b2322f246342bcbf330fe38e419e23",
      "value": "tatoeba.py: 100%"
     }
    },
    "740f34e9b0014767979edd6139633295": {
     "model_module": "@jupyter-widgets/base",
     "model_module_version": "1.2.0",
     "model_name": "LayoutModel",
     "state": {
      "_model_module": "@jupyter-widgets/base",
      "_model_module_version": "1.2.0",
      "_model_name": "LayoutModel",
      "_view_count": null,
      "_view_module": "@jupyter-widgets/base",
      "_view_module_version": "1.2.0",
      "_view_name": "LayoutView",
      "align_content": null,
      "align_items": null,
      "align_self": null,
      "border": null,
      "bottom": null,
      "display": null,
      "flex": null,
      "flex_flow": null,
      "grid_area": null,
      "grid_auto_columns": null,
      "grid_auto_flow": null,
      "grid_auto_rows": null,
      "grid_column": null,
      "grid_gap": null,
      "grid_row": null,
      "grid_template_areas": null,
      "grid_template_columns": null,
      "grid_template_rows": null,
      "height": null,
      "justify_content": null,
      "justify_items": null,
      "left": null,
      "margin": null,
      "max_height": null,
      "max_width": null,
      "min_height": null,
      "min_width": null,
      "object_fit": null,
      "object_position": null,
      "order": null,
      "overflow": null,
      "overflow_x": null,
      "overflow_y": null,
      "padding": null,
      "right": null,
      "top": null,
      "visibility": null,
      "width": null
     }
    },
    "7659b34639de4cfe8281cf6668fc02d4": {
     "model_module": "@jupyter-widgets/controls",
     "model_module_version": "1.5.0",
     "model_name": "DescriptionStyleModel",
     "state": {
      "_model_module": "@jupyter-widgets/controls",
      "_model_module_version": "1.5.0",
      "_model_name": "DescriptionStyleModel",
      "_view_count": null,
      "_view_module": "@jupyter-widgets/base",
      "_view_module_version": "1.2.0",
      "_view_name": "StyleView",
      "description_width": ""
     }
    },
    "79cddf66dc5b450491f1131c7a0a498d": {
     "model_module": "@jupyter-widgets/base",
     "model_module_version": "1.2.0",
     "model_name": "LayoutModel",
     "state": {
      "_model_module": "@jupyter-widgets/base",
      "_model_module_version": "1.2.0",
      "_model_name": "LayoutModel",
      "_view_count": null,
      "_view_module": "@jupyter-widgets/base",
      "_view_module_version": "1.2.0",
      "_view_name": "LayoutView",
      "align_content": null,
      "align_items": null,
      "align_self": null,
      "border": null,
      "bottom": null,
      "display": null,
      "flex": null,
      "flex_flow": null,
      "grid_area": null,
      "grid_auto_columns": null,
      "grid_auto_flow": null,
      "grid_auto_rows": null,
      "grid_column": null,
      "grid_gap": null,
      "grid_row": null,
      "grid_template_areas": null,
      "grid_template_columns": null,
      "grid_template_rows": null,
      "height": null,
      "justify_content": null,
      "justify_items": null,
      "left": null,
      "margin": null,
      "max_height": null,
      "max_width": null,
      "min_height": null,
      "min_width": null,
      "object_fit": null,
      "object_position": null,
      "order": null,
      "overflow": null,
      "overflow_x": null,
      "overflow_y": null,
      "padding": null,
      "right": null,
      "top": null,
      "visibility": null,
      "width": null
     }
    },
    "7a4bc1e9726946fcb4df488c0a73ce24": {
     "model_module": "@jupyter-widgets/controls",
     "model_module_version": "1.5.0",
     "model_name": "HTMLModel",
     "state": {
      "_dom_classes": [],
      "_model_module": "@jupyter-widgets/controls",
      "_model_module_version": "1.5.0",
      "_model_name": "HTMLModel",
      "_view_count": null,
      "_view_module": "@jupyter-widgets/controls",
      "_view_module_version": "1.5.0",
      "_view_name": "HTMLView",
      "description": "",
      "description_tooltip": null,
      "layout": "IPY_MODEL_84baa0d77bae4b3fae6709df365c652f",
      "placeholder": "​",
      "style": "IPY_MODEL_a27f5df37e5146bcb221f60f26c4bb12",
      "value": " 344k/344k [00:00&lt;00:00, 462kB/s]"
     }
    },
    "7d668d7f058e4c7ea4e8af63c1127418": {
     "model_module": "@jupyter-widgets/controls",
     "model_module_version": "1.5.0",
     "model_name": "HTMLModel",
     "state": {
      "_dom_classes": [],
      "_model_module": "@jupyter-widgets/controls",
      "_model_module_version": "1.5.0",
      "_model_name": "HTMLModel",
      "_view_count": null,
      "_view_module": "@jupyter-widgets/controls",
      "_view_module_version": "1.5.0",
      "_view_name": "HTMLView",
      "description": "",
      "description_tooltip": null,
      "layout": "IPY_MODEL_47c96ab25cf641ce91d1128a476c2399",
      "placeholder": "​",
      "style": "IPY_MODEL_426bf9e6c6de4f95a25c04f6a6be7792",
      "value": "README.md: 100%"
     }
    },
    "84baa0d77bae4b3fae6709df365c652f": {
     "model_module": "@jupyter-widgets/base",
     "model_module_version": "1.2.0",
     "model_name": "LayoutModel",
     "state": {
      "_model_module": "@jupyter-widgets/base",
      "_model_module_version": "1.2.0",
      "_model_name": "LayoutModel",
      "_view_count": null,
      "_view_module": "@jupyter-widgets/base",
      "_view_module_version": "1.2.0",
      "_view_name": "LayoutView",
      "align_content": null,
      "align_items": null,
      "align_self": null,
      "border": null,
      "bottom": null,
      "display": null,
      "flex": null,
      "flex_flow": null,
      "grid_area": null,
      "grid_auto_columns": null,
      "grid_auto_flow": null,
      "grid_auto_rows": null,
      "grid_column": null,
      "grid_gap": null,
      "grid_row": null,
      "grid_template_areas": null,
      "grid_template_columns": null,
      "grid_template_rows": null,
      "height": null,
      "justify_content": null,
      "justify_items": null,
      "left": null,
      "margin": null,
      "max_height": null,
      "max_width": null,
      "min_height": null,
      "min_width": null,
      "object_fit": null,
      "object_position": null,
      "order": null,
      "overflow": null,
      "overflow_x": null,
      "overflow_y": null,
      "padding": null,
      "right": null,
      "top": null,
      "visibility": null,
      "width": null
     }
    },
    "8ed83ed75f674c568c41127c781bcd54": {
     "model_module": "@jupyter-widgets/base",
     "model_module_version": "1.2.0",
     "model_name": "LayoutModel",
     "state": {
      "_model_module": "@jupyter-widgets/base",
      "_model_module_version": "1.2.0",
      "_model_name": "LayoutModel",
      "_view_count": null,
      "_view_module": "@jupyter-widgets/base",
      "_view_module_version": "1.2.0",
      "_view_name": "LayoutView",
      "align_content": null,
      "align_items": null,
      "align_self": null,
      "border": null,
      "bottom": null,
      "display": null,
      "flex": null,
      "flex_flow": null,
      "grid_area": null,
      "grid_auto_columns": null,
      "grid_auto_flow": null,
      "grid_auto_rows": null,
      "grid_column": null,
      "grid_gap": null,
      "grid_row": null,
      "grid_template_areas": null,
      "grid_template_columns": null,
      "grid_template_rows": null,
      "height": null,
      "justify_content": null,
      "justify_items": null,
      "left": null,
      "margin": null,
      "max_height": null,
      "max_width": null,
      "min_height": null,
      "min_width": null,
      "object_fit": null,
      "object_position": null,
      "order": null,
      "overflow": null,
      "overflow_x": null,
      "overflow_y": null,
      "padding": null,
      "right": null,
      "top": null,
      "visibility": null,
      "width": null
     }
    },
    "92606df036eb44afa3e81ef0762cf90f": {
     "model_module": "@jupyter-widgets/controls",
     "model_module_version": "1.5.0",
     "model_name": "FloatProgressModel",
     "state": {
      "_dom_classes": [],
      "_model_module": "@jupyter-widgets/controls",
      "_model_module_version": "1.5.0",
      "_model_name": "FloatProgressModel",
      "_view_count": null,
      "_view_module": "@jupyter-widgets/controls",
      "_view_module_version": "1.5.0",
      "_view_name": "ProgressView",
      "bar_style": "success",
      "description": "",
      "description_tooltip": null,
      "layout": "IPY_MODEL_da7ebb139b784b81bbceb5f2bfb12474",
      "max": 1,
      "min": 0,
      "orientation": "horizontal",
      "style": "IPY_MODEL_ec53e209714d4d29bf2434776dbf5042",
      "value": 1
     }
    },
    "9377f87984e84ca4b19a0df5dfd666c8": {
     "model_module": "@jupyter-widgets/controls",
     "model_module_version": "1.5.0",
     "model_name": "ProgressStyleModel",
     "state": {
      "_model_module": "@jupyter-widgets/controls",
      "_model_module_version": "1.5.0",
      "_model_name": "ProgressStyleModel",
      "_view_count": null,
      "_view_module": "@jupyter-widgets/base",
      "_view_module_version": "1.2.0",
      "_view_name": "StyleView",
      "bar_color": null,
      "description_width": ""
     }
    },
    "98ac788d897d4455b9bcfaee64724be6": {
     "model_module": "@jupyter-widgets/controls",
     "model_module_version": "1.5.0",
     "model_name": "FloatProgressModel",
     "state": {
      "_dom_classes": [],
      "_model_module": "@jupyter-widgets/controls",
      "_model_module_version": "1.5.0",
      "_model_name": "FloatProgressModel",
      "_view_count": null,
      "_view_module": "@jupyter-widgets/controls",
      "_view_module_version": "1.5.0",
      "_view_name": "ProgressView",
      "bar_style": "success",
      "description": "",
      "description_tooltip": null,
      "layout": "IPY_MODEL_ebfb56167e6e49528eb22a7f8d458814",
      "max": 344382,
      "min": 0,
      "orientation": "horizontal",
      "style": "IPY_MODEL_1fb4412b61f1495c8912bea184d2f852",
      "value": 344382
     }
    },
    "99624688aeb14f93a3dd9c1e5a4af61b": {
     "model_module": "@jupyter-widgets/controls",
     "model_module_version": "1.5.0",
     "model_name": "FloatProgressModel",
     "state": {
      "_dom_classes": [],
      "_model_module": "@jupyter-widgets/controls",
      "_model_module_version": "1.5.0",
      "_model_name": "FloatProgressModel",
      "_view_count": null,
      "_view_module": "@jupyter-widgets/controls",
      "_view_module_version": "1.5.0",
      "_view_name": "ProgressView",
      "bar_style": "success",
      "description": "",
      "description_tooltip": null,
      "layout": "IPY_MODEL_c8bcd7fbfada422dbcfc350c5ea5f976",
      "max": 8928,
      "min": 0,
      "orientation": "horizontal",
      "style": "IPY_MODEL_9377f87984e84ca4b19a0df5dfd666c8",
      "value": 8928
     }
    },
    "9a013342360a42d1a444d41546e9092d": {
     "model_module": "@jupyter-widgets/controls",
     "model_module_version": "1.5.0",
     "model_name": "DescriptionStyleModel",
     "state": {
      "_model_module": "@jupyter-widgets/controls",
      "_model_module_version": "1.5.0",
      "_model_name": "DescriptionStyleModel",
      "_view_count": null,
      "_view_module": "@jupyter-widgets/base",
      "_view_module_version": "1.2.0",
      "_view_name": "StyleView",
      "description_width": ""
     }
    },
    "a27f5df37e5146bcb221f60f26c4bb12": {
     "model_module": "@jupyter-widgets/controls",
     "model_module_version": "1.5.0",
     "model_name": "DescriptionStyleModel",
     "state": {
      "_model_module": "@jupyter-widgets/controls",
      "_model_module_version": "1.5.0",
      "_model_name": "DescriptionStyleModel",
      "_view_count": null,
      "_view_module": "@jupyter-widgets/base",
      "_view_module_version": "1.2.0",
      "_view_name": "StyleView",
      "description_width": ""
     }
    },
    "a9785112c9c14b4aa253d77d67ac34ff": {
     "model_module": "@jupyter-widgets/controls",
     "model_module_version": "1.5.0",
     "model_name": "DescriptionStyleModel",
     "state": {
      "_model_module": "@jupyter-widgets/controls",
      "_model_module_version": "1.5.0",
      "_model_name": "DescriptionStyleModel",
      "_view_count": null,
      "_view_module": "@jupyter-widgets/base",
      "_view_module_version": "1.2.0",
      "_view_name": "StyleView",
      "description_width": ""
     }
    },
    "aa70910aaafb420bba90ecb0b4c9798f": {
     "model_module": "@jupyter-widgets/controls",
     "model_module_version": "1.5.0",
     "model_name": "ProgressStyleModel",
     "state": {
      "_model_module": "@jupyter-widgets/controls",
      "_model_module_version": "1.5.0",
      "_model_name": "ProgressStyleModel",
      "_view_count": null,
      "_view_module": "@jupyter-widgets/base",
      "_view_module_version": "1.2.0",
      "_view_name": "StyleView",
      "bar_color": null,
      "description_width": ""
     }
    },
    "aade90b89b69432c8be80036ba948f3b": {
     "model_module": "@jupyter-widgets/base",
     "model_module_version": "1.2.0",
     "model_name": "LayoutModel",
     "state": {
      "_model_module": "@jupyter-widgets/base",
      "_model_module_version": "1.2.0",
      "_model_name": "LayoutModel",
      "_view_count": null,
      "_view_module": "@jupyter-widgets/base",
      "_view_module_version": "1.2.0",
      "_view_name": "LayoutView",
      "align_content": null,
      "align_items": null,
      "align_self": null,
      "border": null,
      "bottom": null,
      "display": null,
      "flex": null,
      "flex_flow": null,
      "grid_area": null,
      "grid_auto_columns": null,
      "grid_auto_flow": null,
      "grid_auto_rows": null,
      "grid_column": null,
      "grid_gap": null,
      "grid_row": null,
      "grid_template_areas": null,
      "grid_template_columns": null,
      "grid_template_rows": null,
      "height": null,
      "justify_content": null,
      "justify_items": null,
      "left": null,
      "margin": null,
      "max_height": null,
      "max_width": null,
      "min_height": null,
      "min_width": null,
      "object_fit": null,
      "object_position": null,
      "order": null,
      "overflow": null,
      "overflow_x": null,
      "overflow_y": null,
      "padding": null,
      "right": null,
      "top": null,
      "visibility": null,
      "width": null
     }
    },
    "b3d46a9292024cfba8e619099b679e0e": {
     "model_module": "@jupyter-widgets/controls",
     "model_module_version": "1.5.0",
     "model_name": "HTMLModel",
     "state": {
      "_dom_classes": [],
      "_model_module": "@jupyter-widgets/controls",
      "_model_module_version": "1.5.0",
      "_model_name": "HTMLModel",
      "_view_count": null,
      "_view_module": "@jupyter-widgets/controls",
      "_view_module_version": "1.5.0",
      "_view_name": "HTMLView",
      "description": "",
      "description_tooltip": null,
      "layout": "IPY_MODEL_740f34e9b0014767979edd6139633295",
      "placeholder": "​",
      "style": "IPY_MODEL_7659b34639de4cfe8281cf6668fc02d4",
      "value": " 4.41k/4.41k [00:00&lt;00:00, 203kB/s]"
     }
    },
    "b5a05f4697514ed08b004a4b002bedc7": {
     "model_module": "@jupyter-widgets/controls",
     "model_module_version": "1.5.0",
     "model_name": "HTMLModel",
     "state": {
      "_dom_classes": [],
      "_model_module": "@jupyter-widgets/controls",
      "_model_module_version": "1.5.0",
      "_model_name": "HTMLModel",
      "_view_count": null,
      "_view_module": "@jupyter-widgets/controls",
      "_view_module_version": "1.5.0",
      "_view_name": "HTMLView",
      "description": "",
      "description_tooltip": null,
      "layout": "IPY_MODEL_4b222b8cb9e74d8baf82ac26bd3d1352",
      "placeholder": "​",
      "style": "IPY_MODEL_a9785112c9c14b4aa253d77d67ac34ff",
      "value": "Downloading data: 100%"
     }
    },
    "c27c433de2ae421b898c26245e5e7261": {
     "model_module": "@jupyter-widgets/base",
     "model_module_version": "1.2.0",
     "model_name": "LayoutModel",
     "state": {
      "_model_module": "@jupyter-widgets/base",
      "_model_module_version": "1.2.0",
      "_model_name": "LayoutModel",
      "_view_count": null,
      "_view_module": "@jupyter-widgets/base",
      "_view_module_version": "1.2.0",
      "_view_name": "LayoutView",
      "align_content": null,
      "align_items": null,
      "align_self": null,
      "border": null,
      "bottom": null,
      "display": null,
      "flex": null,
      "flex_flow": null,
      "grid_area": null,
      "grid_auto_columns": null,
      "grid_auto_flow": null,
      "grid_auto_rows": null,
      "grid_column": null,
      "grid_gap": null,
      "grid_row": null,
      "grid_template_areas": null,
      "grid_template_columns": null,
      "grid_template_rows": null,
      "height": null,
      "justify_content": null,
      "justify_items": null,
      "left": null,
      "margin": null,
      "max_height": null,
      "max_width": null,
      "min_height": null,
      "min_width": null,
      "object_fit": null,
      "object_position": null,
      "order": null,
      "overflow": null,
      "overflow_x": null,
      "overflow_y": null,
      "padding": null,
      "right": null,
      "top": null,
      "visibility": null,
      "width": null
     }
    },
    "c8bcd7fbfada422dbcfc350c5ea5f976": {
     "model_module": "@jupyter-widgets/base",
     "model_module_version": "1.2.0",
     "model_name": "LayoutModel",
     "state": {
      "_model_module": "@jupyter-widgets/base",
      "_model_module_version": "1.2.0",
      "_model_name": "LayoutModel",
      "_view_count": null,
      "_view_module": "@jupyter-widgets/base",
      "_view_module_version": "1.2.0",
      "_view_name": "LayoutView",
      "align_content": null,
      "align_items": null,
      "align_self": null,
      "border": null,
      "bottom": null,
      "display": null,
      "flex": null,
      "flex_flow": null,
      "grid_area": null,
      "grid_auto_columns": null,
      "grid_auto_flow": null,
      "grid_auto_rows": null,
      "grid_column": null,
      "grid_gap": null,
      "grid_row": null,
      "grid_template_areas": null,
      "grid_template_columns": null,
      "grid_template_rows": null,
      "height": null,
      "justify_content": null,
      "justify_items": null,
      "left": null,
      "margin": null,
      "max_height": null,
      "max_width": null,
      "min_height": null,
      "min_width": null,
      "object_fit": null,
      "object_position": null,
      "order": null,
      "overflow": null,
      "overflow_x": null,
      "overflow_y": null,
      "padding": null,
      "right": null,
      "top": null,
      "visibility": null,
      "width": null
     }
    },
    "ca051e376cbd41cf8cd3e800eccc5d77": {
     "model_module": "@jupyter-widgets/base",
     "model_module_version": "1.2.0",
     "model_name": "LayoutModel",
     "state": {
      "_model_module": "@jupyter-widgets/base",
      "_model_module_version": "1.2.0",
      "_model_name": "LayoutModel",
      "_view_count": null,
      "_view_module": "@jupyter-widgets/base",
      "_view_module_version": "1.2.0",
      "_view_name": "LayoutView",
      "align_content": null,
      "align_items": null,
      "align_self": null,
      "border": null,
      "bottom": null,
      "display": null,
      "flex": null,
      "flex_flow": null,
      "grid_area": null,
      "grid_auto_columns": null,
      "grid_auto_flow": null,
      "grid_auto_rows": null,
      "grid_column": null,
      "grid_gap": null,
      "grid_row": null,
      "grid_template_areas": null,
      "grid_template_columns": null,
      "grid_template_rows": null,
      "height": null,
      "justify_content": null,
      "justify_items": null,
      "left": null,
      "margin": null,
      "max_height": null,
      "max_width": null,
      "min_height": null,
      "min_width": null,
      "object_fit": null,
      "object_position": null,
      "order": null,
      "overflow": null,
      "overflow_x": null,
      "overflow_y": null,
      "padding": null,
      "right": null,
      "top": null,
      "visibility": null,
      "width": null
     }
    },
    "da7ebb139b784b81bbceb5f2bfb12474": {
     "model_module": "@jupyter-widgets/base",
     "model_module_version": "1.2.0",
     "model_name": "LayoutModel",
     "state": {
      "_model_module": "@jupyter-widgets/base",
      "_model_module_version": "1.2.0",
      "_model_name": "LayoutModel",
      "_view_count": null,
      "_view_module": "@jupyter-widgets/base",
      "_view_module_version": "1.2.0",
      "_view_name": "LayoutView",
      "align_content": null,
      "align_items": null,
      "align_self": null,
      "border": null,
      "bottom": null,
      "display": null,
      "flex": null,
      "flex_flow": null,
      "grid_area": null,
      "grid_auto_columns": null,
      "grid_auto_flow": null,
      "grid_auto_rows": null,
      "grid_column": null,
      "grid_gap": null,
      "grid_row": null,
      "grid_template_areas": null,
      "grid_template_columns": null,
      "grid_template_rows": null,
      "height": null,
      "justify_content": null,
      "justify_items": null,
      "left": null,
      "margin": null,
      "max_height": null,
      "max_width": null,
      "min_height": null,
      "min_width": null,
      "object_fit": null,
      "object_position": null,
      "order": null,
      "overflow": null,
      "overflow_x": null,
      "overflow_y": null,
      "padding": null,
      "right": null,
      "top": null,
      "visibility": null,
      "width": "20px"
     }
    },
    "e7978c3d3c964640863db26b6d517fa9": {
     "model_module": "@jupyter-widgets/controls",
     "model_module_version": "1.5.0",
     "model_name": "DescriptionStyleModel",
     "state": {
      "_model_module": "@jupyter-widgets/controls",
      "_model_module_version": "1.5.0",
      "_model_name": "DescriptionStyleModel",
      "_view_count": null,
      "_view_module": "@jupyter-widgets/base",
      "_view_module_version": "1.2.0",
      "_view_name": "StyleView",
      "description_width": ""
     }
    },
    "e95247b2d0544b1ba776e2473eb2e210": {
     "model_module": "@jupyter-widgets/controls",
     "model_module_version": "1.5.0",
     "model_name": "DescriptionStyleModel",
     "state": {
      "_model_module": "@jupyter-widgets/controls",
      "_model_module_version": "1.5.0",
      "_model_name": "DescriptionStyleModel",
      "_view_count": null,
      "_view_module": "@jupyter-widgets/base",
      "_view_module_version": "1.2.0",
      "_view_name": "StyleView",
      "description_width": ""
     }
    },
    "ebfb56167e6e49528eb22a7f8d458814": {
     "model_module": "@jupyter-widgets/base",
     "model_module_version": "1.2.0",
     "model_name": "LayoutModel",
     "state": {
      "_model_module": "@jupyter-widgets/base",
      "_model_module_version": "1.2.0",
      "_model_name": "LayoutModel",
      "_view_count": null,
      "_view_module": "@jupyter-widgets/base",
      "_view_module_version": "1.2.0",
      "_view_name": "LayoutView",
      "align_content": null,
      "align_items": null,
      "align_self": null,
      "border": null,
      "bottom": null,
      "display": null,
      "flex": null,
      "flex_flow": null,
      "grid_area": null,
      "grid_auto_columns": null,
      "grid_auto_flow": null,
      "grid_auto_rows": null,
      "grid_column": null,
      "grid_gap": null,
      "grid_row": null,
      "grid_template_areas": null,
      "grid_template_columns": null,
      "grid_template_rows": null,
      "height": null,
      "justify_content": null,
      "justify_items": null,
      "left": null,
      "margin": null,
      "max_height": null,
      "max_width": null,
      "min_height": null,
      "min_width": null,
      "object_fit": null,
      "object_position": null,
      "order": null,
      "overflow": null,
      "overflow_x": null,
      "overflow_y": null,
      "padding": null,
      "right": null,
      "top": null,
      "visibility": null,
      "width": null
     }
    },
    "ec53e209714d4d29bf2434776dbf5042": {
     "model_module": "@jupyter-widgets/controls",
     "model_module_version": "1.5.0",
     "model_name": "ProgressStyleModel",
     "state": {
      "_model_module": "@jupyter-widgets/controls",
      "_model_module_version": "1.5.0",
      "_model_name": "ProgressStyleModel",
      "_view_count": null,
      "_view_module": "@jupyter-widgets/base",
      "_view_module_version": "1.2.0",
      "_view_name": "StyleView",
      "bar_color": null,
      "description_width": ""
     }
    },
    "f723b97e0bd34d148f699ad1b5019a6a": {
     "model_module": "@jupyter-widgets/base",
     "model_module_version": "1.2.0",
     "model_name": "LayoutModel",
     "state": {
      "_model_module": "@jupyter-widgets/base",
      "_model_module_version": "1.2.0",
      "_model_name": "LayoutModel",
      "_view_count": null,
      "_view_module": "@jupyter-widgets/base",
      "_view_module_version": "1.2.0",
      "_view_name": "LayoutView",
      "align_content": null,
      "align_items": null,
      "align_self": null,
      "border": null,
      "bottom": null,
      "display": null,
      "flex": null,
      "flex_flow": null,
      "grid_area": null,
      "grid_auto_columns": null,
      "grid_auto_flow": null,
      "grid_auto_rows": null,
      "grid_column": null,
      "grid_gap": null,
      "grid_row": null,
      "grid_template_areas": null,
      "grid_template_columns": null,
      "grid_template_rows": null,
      "height": null,
      "justify_content": null,
      "justify_items": null,
      "left": null,
      "margin": null,
      "max_height": null,
      "max_width": null,
      "min_height": null,
      "min_width": null,
      "object_fit": null,
      "object_position": null,
      "order": null,
      "overflow": null,
      "overflow_x": null,
      "overflow_y": null,
      "padding": null,
      "right": null,
      "top": null,
      "visibility": null,
      "width": null
     }
    }
   }
  }
 },
 "nbformat": 4,
 "nbformat_minor": 4
}
